{
  "nbformat": 4,
  "nbformat_minor": 0,
  "metadata": {
    "colab": {
      "provenance": [],
      "authorship_tag": "ABX9TyP7tlaPBbnyjvAeIKzb+hMZ",
      "include_colab_link": true
    },
    "kernelspec": {
      "name": "python3",
      "display_name": "Python 3"
    },
    "language_info": {
      "name": "python"
    }
  },
  "cells": [
    {
      "cell_type": "markdown",
      "metadata": {
        "id": "view-in-github",
        "colab_type": "text"
      },
      "source": [
        "<a href=\"https://colab.research.google.com/github/gwondabin/farst/blob/main/Untitled2.ipynb\" target=\"_parent\"><img src=\"https://colab.research.google.com/assets/colab-badge.svg\" alt=\"Open In Colab\"/></a>"
      ]
    },
    {
      "cell_type": "code",
      "execution_count": null,
      "metadata": {
        "id": "W39FHYxJXNyM"
      },
      "outputs": [],
      "source": [
        "학생 10명의 성적을 입력받아 평균을 계산하는 알고리즘을 의사코드로 표현해 보자."
      ]
    },
    {
      "cell_type": "code",
      "source": [
        "total=0                                              #total값 0에서 시작\n",
        "counter=1                                            #counter값 1에서 시작\n",
        "while counter<=10:                                   #10번 반복해라\n",
        "      grade=int(input(\"grade의 값을 입력하라.:\"))    #사용자애개 grade를 정수형을 받아라\n",
        "      total=grade+total                              #total변수에 grade, total의 합을 저장하라.\n",
        "      counter=counter+1                              #합을 저장하라\n",
        "average=total/10                                     #average변수에 total을 10을 나눈 평균값을 저장하라\n",
        "print('평균:', average)                              #평균 average 값을 화면에 출력하라"
      ],
      "metadata": {
        "colab": {
          "base_uri": "https://localhost:8080/"
        },
        "id": "1vEfTKFQZnrB",
        "outputId": "139fe9e1-0221-4780-9607-36581b6139d7"
      },
      "execution_count": 2,
      "outputs": [
        {
          "output_type": "stream",
          "name": "stdout",
          "text": [
            "grade의 값을 입력하라.:10\n",
            "grade의 값을 입력하라.:10\n",
            "grade의 값을 입력하라.:10\n",
            "grade의 값을 입력하라.:0\n",
            "grade의 값을 입력하라.:0\n",
            "grade의 값을 입력하라.:0\n",
            "grade의 값을 입력하라.:0\n",
            "grade의 값을 입력하라.:0\n",
            "grade의 값을 입력하라.:0\n",
            "grade의 값을 입력하라.:0\n",
            "평균: 3.0\n"
          ]
        }
      ]
    }
  ]
}