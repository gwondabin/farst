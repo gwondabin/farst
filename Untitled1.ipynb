{
  "nbformat": 4,
  "nbformat_minor": 0,
  "metadata": {
    "colab": {
      "provenance": [],
      "authorship_tag": "ABX9TyNVa42ZgHtjX4Z05G0nTiOA",
      "include_colab_link": true
    },
    "kernelspec": {
      "name": "python3",
      "display_name": "Python 3"
    },
    "language_info": {
      "name": "python"
    }
  },
  "cells": [
    {
      "cell_type": "markdown",
      "metadata": {
        "id": "view-in-github",
        "colab_type": "text"
      },
      "source": [
        "<a href=\"https://colab.research.google.com/github/gwondabin/farst/blob/main/Untitled1.ipynb\" target=\"_parent\"><img src=\"https://colab.research.google.com/assets/colab-badge.svg\" alt=\"Open In Colab\"/></a>"
      ]
    },
    {
      "cell_type": "code",
      "execution_count": null,
      "metadata": {
        "id": "b19lrDZ2uwuY"
      },
      "outputs": [],
      "source": [
        "사용자로부터 3개의 정수를 받아 평균을 계산하는 알고리즘과 이것을 구합니다."
      ]
    },
    {
      "cell_type": "code",
      "source": [
        "n1=int(input(\"n1의 값을 입력하시오.:\"))  # 사용자에게 n1을 정수형을 받아라 \n",
        "n2=int(input(\"n2의 값을 입력하시오.:\"))  # 사용자에게 n2을 정수형을 받아라\n",
        "n3=int(input(\"n3의 값을 입력하시오.:\"))  # 사용자에게 n3을 정수형을 받아라\n",
        "total=n1+n2+n3                           # total 변수에 n1, n2, n3의 합을 저장하라\n",
        "average= total/3                         # everage변수에 total을 3을 나눈 평균값을 저장하라.\n",
        "print('합=',total, '평균=',average)     #합과 변수 total, 평균과 변수 average 값을 화면에 출력하라 "
      ],
      "metadata": {
        "colab": {
          "base_uri": "https://localhost:8080/"
        },
        "id": "NbIcjRbNuzA4",
        "outputId": "5a84bb81-106d-49f9-c937-5f26ea8ee3f2"
      },
      "execution_count": 2,
      "outputs": [
        {
          "output_type": "stream",
          "name": "stdout",
          "text": [
            "n1의 값을 입력하시오.:4\n",
            "n2의 값을 입력하시오.:4\n",
            "n3의 값을 입력하시오.:4\n",
            "합= 12 평균= 4.0\n"
          ]
        }
      ]
    }
  ]
}